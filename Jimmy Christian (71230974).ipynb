{
 "cells": [
  {
   "cell_type": "code",
   "execution_count": 1,
   "id": "ded16ac0",
   "metadata": {
    "scrolled": true
   },
   "outputs": [
    {
     "name": "stdout",
     "output_type": "stream",
     "text": [
      "[8, 9, 10]\n"
     ]
    }
   ],
   "source": [
    "def tiga_nilai_terbaik():\n",
    "    list = [2,4,8,1,9,10]\n",
    "    list.sort()\n",
    "    print(list[-3:])\n",
    "tiga_nilai_terbaik ()"
   ]
  },
  {
   "cell_type": "code",
   "execution_count": 2,
   "id": "d477625b",
   "metadata": {},
   "outputs": [
    {
     "name": "stdout",
     "output_type": "stream",
     "text": [
      "Masukkan angka: (Jika sudah ketikkan done)\n",
      "1\n",
      "Masukkan angka: (Jika sudah ketikkan done)\n",
      "7\n",
      "Masukkan angka: (Jika sudah ketikkan done)\n",
      "abc\n",
      "Masukkan angka: (Jika sudah ketikkan done)\n",
      "10\n",
      "Masukkan angka: (Jika sudah ketikkan done)\n",
      "1\n",
      "Masukkan angka: (Jika sudah ketikkan done)\n",
      "2\n",
      "Masukkan angka: (Jika sudah ketikkan done)\n",
      "z\n",
      "Masukkan angka: (Jika sudah ketikkan done)\n",
      "done\n",
      "Nilai maksimum: 10\n",
      "Nilai minimum: 1\n"
     ]
    }
   ],
   "source": [
    "def max_min():\n",
    "    hasil = []\n",
    "    while True:\n",
    "        angka = input(\"Masukkan angka: (Jika sudah ketikkan \"\"done\"\")\\n\")\n",
    "        if angka.isdigit():\n",
    "            hasil.append(int(angka))\n",
    "        if angka == \"done\":\n",
    "            print (f\"Nilai maksimum: {max(hasil)}\\nNilai minimum: {min(hasil)}\")\n",
    "            break\n",
    "max_min()"
   ]
  },
  {
   "cell_type": "code",
   "execution_count": null,
   "id": "c352a7e1",
   "metadata": {},
   "outputs": [],
   "source": [
    "handle = open(\"a.txt\")\n",
    "isifile = \"\"\n",
    "kata = []\n",
    "for i in handle:\n",
    "    isifile = isifile + i\n",
    "kalimat = isifile.split(\".\")\n",
    "for k in range (len(kalimat)):\n",
    "    kalimatsplit = (kalimat[k]).split(\" \")\n",
    "    for j in range (len(kalimatsplit)):\n",
    "        if kata.count(kalimatsplit[j]) == 1:\n",
    "            continue\n",
    "        else:\n",
    "            kata.append(kalimatsplit[j])\n",
    "print(\"=======ISI BERITA=======\")\n",
    "print(isifile)\n",
    "print()\n",
    "print(\"=======Kata Unik pada Berita=======\")\n",
    "print(kata)"
   ]
  }
 ],
 "metadata": {
  "kernelspec": {
   "display_name": "Python 3 (ipykernel)",
   "language": "python",
   "name": "python3"
  },
  "language_info": {
   "codemirror_mode": {
    "name": "ipython",
    "version": 3
   },
   "file_extension": ".py",
   "mimetype": "text/x-python",
   "name": "python",
   "nbconvert_exporter": "python",
   "pygments_lexer": "ipython3",
   "version": "3.11.5"
  }
 },
 "nbformat": 4,
 "nbformat_minor": 5
}
